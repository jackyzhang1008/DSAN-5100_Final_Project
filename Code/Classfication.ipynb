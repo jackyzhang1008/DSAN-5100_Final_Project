{
 "cells": [
  {
   "cell_type": "code",
   "execution_count": 1,
   "metadata": {
    "ExecuteTime": {
     "end_time": "2023-11-25T21:46:22.643288Z",
     "start_time": "2023-11-25T21:46:22.637284Z"
    }
   },
   "outputs": [],
   "source": [
    "import numpy as np\n",
    "import pandas as pd\n",
    "from geopy.distance import geodesic\n",
    "import glob \n",
    "from sklearn.model_selection import train_test_split\n",
    "from sklearn.ensemble import RandomForestClassifier\n",
    "from sklearn.tree import DecisionTreeClassifier\n",
    "from sklearn.metrics import accuracy_score, classification_report, confusion_matrix\n",
    "import matplotlib.pyplot as plt\n",
    "import seaborn as sns\n",
    "import warnings\n",
    "warnings.filterwarnings('ignore')"
   ]
  },
  {
   "cell_type": "code",
   "execution_count": 2,
   "metadata": {
    "ExecuteTime": {
     "end_time": "2023-11-25T21:55:42.079579Z",
     "start_time": "2023-11-25T21:55:42.067623Z"
    },
    "collapsed": false
   },
   "outputs": [],
   "source": [
    "def connectcsv(files_path):\n",
    "    dfs = []\n",
    "    for file in files_path:\n",
    "        df = pd.read_csv(file)\n",
    "        selected_columns = ['ride_id', 'start_lat', 'start_lng', 'end_lat', 'end_lng','member_casual']\n",
    "        df = df[selected_columns]\n",
    "        df = df.dropna()\n",
    "        df['start_lat'] = df['start_lat'].astype('float64')\n",
    "        df['start_lng'] = df['start_lng'].astype('float64')\n",
    "        df['end_lat'] = df['end_lat'].astype('float64')\n",
    "        df['end_lng'] = df['end_lng'].astype('float64')\n",
    "        #encode member_casual column\n",
    "        df['member_casual'] = df['member_casual'].map({'member': 0, 'casual': 1})\n",
    "        #df = df.sample(n=1000)\n",
    "        dfs.append(df)\n",
    "    return pd.concat(dfs, ignore_index=True)"
   ]
  },
  {
   "cell_type": "code",
   "execution_count": 3,
   "metadata": {
    "ExecuteTime": {
     "end_time": "2023-11-25T21:55:43.543865Z",
     "start_time": "2023-11-25T21:55:43.533955Z"
    },
    "collapsed": false
   },
   "outputs": [],
   "source": [
    "def calculate_distance(row):\n",
    "    start_coords = (row['start_lat'], row['start_lng'])\n",
    "    end_coords = (row['end_lat'], row['end_lng'])\n",
    "    return geodesic(start_coords, end_coords).miles"
   ]
  },
  {
   "cell_type": "code",
   "execution_count": 4,
   "metadata": {
    "ExecuteTime": {
     "end_time": "2023-11-25T21:55:45.436074Z",
     "start_time": "2023-11-25T21:55:43.936966Z"
    },
    "collapsed": false
   },
   "outputs": [],
   "source": [
    "data_2020 = connectcsv(sorted(glob.glob('../Data/part2/2020*.csv')))\n",
    "data_2020['distance_miles'] = data_2020.apply(calculate_distance, axis=1)\n",
    "data_2020.head()"
   ]
  },
  {
   "cell_type": "code",
   "execution_count": null,
   "metadata": {
    "ExecuteTime": {
     "end_time": "2023-11-25T21:50:48.183021Z",
     "start_time": "2023-11-25T21:49:56.711359Z"
    },
    "collapsed": false
   },
   "outputs": [
    {
     "data": {
      "text/html": [
       "<div>\n",
       "<style scoped>\n",
       "    .dataframe tbody tr th:only-of-type {\n",
       "        vertical-align: middle;\n",
       "    }\n",
       "\n",
       "    .dataframe tbody tr th {\n",
       "        vertical-align: top;\n",
       "    }\n",
       "\n",
       "    .dataframe thead th {\n",
       "        text-align: right;\n",
       "    }\n",
       "</style>\n",
       "<table border=\"1\" class=\"dataframe\">\n",
       "  <thead>\n",
       "    <tr style=\"text-align: right;\">\n",
       "      <th></th>\n",
       "      <th>ride_id</th>\n",
       "      <th>start_lat</th>\n",
       "      <th>start_lng</th>\n",
       "      <th>end_lat</th>\n",
       "      <th>end_lng</th>\n",
       "      <th>member_casual</th>\n",
       "      <th>distance_miles</th>\n",
       "    </tr>\n",
       "  </thead>\n",
       "  <tbody>\n",
       "    <tr>\n",
       "      <th>0</th>\n",
       "      <td>13A48BD20CC3DD85</td>\n",
       "      <td>38.947156</td>\n",
       "      <td>-77.065115</td>\n",
       "      <td>38.949662</td>\n",
       "      <td>-77.027333</td>\n",
       "      <td>1</td>\n",
       "      <td>2.042502</td>\n",
       "    </tr>\n",
       "    <tr>\n",
       "      <th>1</th>\n",
       "      <td>CA68C580B32EEE66</td>\n",
       "      <td>38.894804</td>\n",
       "      <td>-77.023091</td>\n",
       "      <td>38.884053</td>\n",
       "      <td>-76.986043</td>\n",
       "      <td>0</td>\n",
       "      <td>2.130540</td>\n",
       "    </tr>\n",
       "    <tr>\n",
       "      <th>2</th>\n",
       "      <td>5A925307814D5C2B</td>\n",
       "      <td>38.879477</td>\n",
       "      <td>-77.114563</td>\n",
       "      <td>38.878870</td>\n",
       "      <td>-77.120700</td>\n",
       "      <td>0</td>\n",
       "      <td>0.333518</td>\n",
       "    </tr>\n",
       "    <tr>\n",
       "      <th>3</th>\n",
       "      <td>B6B2DB54A2B233EE</td>\n",
       "      <td>38.798133</td>\n",
       "      <td>-77.048700</td>\n",
       "      <td>38.814577</td>\n",
       "      <td>-77.052808</td>\n",
       "      <td>0</td>\n",
       "      <td>1.155767</td>\n",
       "    </tr>\n",
       "    <tr>\n",
       "      <th>4</th>\n",
       "      <td>921A142D5C8A9759</td>\n",
       "      <td>38.814185</td>\n",
       "      <td>-77.043809</td>\n",
       "      <td>38.814577</td>\n",
       "      <td>-77.052808</td>\n",
       "      <td>1</td>\n",
       "      <td>0.486406</td>\n",
       "    </tr>\n",
       "  </tbody>\n",
       "</table>\n",
       "</div>"
      ],
      "text/plain": [
       "            ride_id  start_lat  start_lng    end_lat    end_lng  \\\n",
       "0  13A48BD20CC3DD85  38.947156 -77.065115  38.949662 -77.027333   \n",
       "1  CA68C580B32EEE66  38.894804 -77.023091  38.884053 -76.986043   \n",
       "2  5A925307814D5C2B  38.879477 -77.114563  38.878870 -77.120700   \n",
       "3  B6B2DB54A2B233EE  38.798133 -77.048700  38.814577 -77.052808   \n",
       "4  921A142D5C8A9759  38.814185 -77.043809  38.814577 -77.052808   \n",
       "\n",
       "   member_casual  distance_miles  \n",
       "0              1        2.042502  \n",
       "1              0        2.130540  \n",
       "2              0        0.333518  \n",
       "3              0        1.155767  \n",
       "4              1        0.486406  "
      ]
     },
     "execution_count": 5,
     "metadata": {},
     "output_type": "execute_result"
    }
   ],
   "source": [
    "data_2021 = connectcsv(sorted(glob.glob('../Data/part2/2021*.csv')))\n",
    "data_2021['distance_miles'] = data_2021.apply(calculate_distance, axis=1)\n",
    "data_2021.head()"
   ]
  },
  {
   "cell_type": "code",
   "execution_count": null,
   "metadata": {
    "ExecuteTime": {
     "end_time": "2023-11-25T21:53:58.792270Z",
     "start_time": "2023-11-25T21:50:51.668972Z"
    },
    "collapsed": false
   },
   "outputs": [
    {
     "data": {
      "text/html": [
       "<div>\n",
       "<style scoped>\n",
       "    .dataframe tbody tr th:only-of-type {\n",
       "        vertical-align: middle;\n",
       "    }\n",
       "\n",
       "    .dataframe tbody tr th {\n",
       "        vertical-align: top;\n",
       "    }\n",
       "\n",
       "    .dataframe thead th {\n",
       "        text-align: right;\n",
       "    }\n",
       "</style>\n",
       "<table border=\"1\" class=\"dataframe\">\n",
       "  <thead>\n",
       "    <tr style=\"text-align: right;\">\n",
       "      <th></th>\n",
       "      <th>ride_id</th>\n",
       "      <th>start_lat</th>\n",
       "      <th>start_lng</th>\n",
       "      <th>end_lat</th>\n",
       "      <th>end_lng</th>\n",
       "      <th>member_casual</th>\n",
       "      <th>distance_miles</th>\n",
       "    </tr>\n",
       "  </thead>\n",
       "  <tbody>\n",
       "    <tr>\n",
       "      <th>0</th>\n",
       "      <td>1B4445D591115BD9</td>\n",
       "      <td>38.820932</td>\n",
       "      <td>-77.053096</td>\n",
       "      <td>38.822738</td>\n",
       "      <td>-77.049265</td>\n",
       "      <td>0</td>\n",
       "      <td>0.241363</td>\n",
       "    </tr>\n",
       "    <tr>\n",
       "      <th>1</th>\n",
       "      <td>7F4A0E2F03EADEB7</td>\n",
       "      <td>38.903658</td>\n",
       "      <td>-77.031737</td>\n",
       "      <td>38.898243</td>\n",
       "      <td>-77.026235</td>\n",
       "      <td>0</td>\n",
       "      <td>0.476916</td>\n",
       "    </tr>\n",
       "    <tr>\n",
       "      <th>2</th>\n",
       "      <td>30DD8A84164843AD</td>\n",
       "      <td>38.903658</td>\n",
       "      <td>-77.031737</td>\n",
       "      <td>38.903819</td>\n",
       "      <td>-77.028400</td>\n",
       "      <td>0</td>\n",
       "      <td>0.180207</td>\n",
       "    </tr>\n",
       "    <tr>\n",
       "      <th>3</th>\n",
       "      <td>FC67665D7682D0A6</td>\n",
       "      <td>38.915604</td>\n",
       "      <td>-76.983683</td>\n",
       "      <td>38.901385</td>\n",
       "      <td>-76.941877</td>\n",
       "      <td>1</td>\n",
       "      <td>2.457422</td>\n",
       "    </tr>\n",
       "    <tr>\n",
       "      <th>4</th>\n",
       "      <td>7854F7CC4F631A1E</td>\n",
       "      <td>38.885434</td>\n",
       "      <td>-77.173605</td>\n",
       "      <td>38.887403</td>\n",
       "      <td>-77.176992</td>\n",
       "      <td>0</td>\n",
       "      <td>0.227578</td>\n",
       "    </tr>\n",
       "  </tbody>\n",
       "</table>\n",
       "</div>"
      ],
      "text/plain": [
       "            ride_id  start_lat  start_lng    end_lat    end_lng  \\\n",
       "0  1B4445D591115BD9  38.820932 -77.053096  38.822738 -77.049265   \n",
       "1  7F4A0E2F03EADEB7  38.903658 -77.031737  38.898243 -77.026235   \n",
       "2  30DD8A84164843AD  38.903658 -77.031737  38.903819 -77.028400   \n",
       "3  FC67665D7682D0A6  38.915604 -76.983683  38.901385 -76.941877   \n",
       "4  7854F7CC4F631A1E  38.885434 -77.173605  38.887403 -77.176992   \n",
       "\n",
       "   member_casual  distance_miles  \n",
       "0              0        0.241363  \n",
       "1              0        0.476916  \n",
       "2              0        0.180207  \n",
       "3              1        2.457422  \n",
       "4              0        0.227578  "
      ]
     },
     "execution_count": 6,
     "metadata": {},
     "output_type": "execute_result"
    }
   ],
   "source": [
    "data_2022 = connectcsv(sorted(glob.glob('../Data/part2/2022*.csv')))\n",
    "data_2022['distance_miles'] = data_2022.apply(calculate_distance, axis=1)\n",
    "data_2022.head()"
   ]
  },
  {
   "cell_type": "code",
   "execution_count": null,
   "metadata": {},
   "outputs": [
    {
     "data": {
      "text/html": [
       "<div>\n",
       "<style scoped>\n",
       "    .dataframe tbody tr th:only-of-type {\n",
       "        vertical-align: middle;\n",
       "    }\n",
       "\n",
       "    .dataframe tbody tr th {\n",
       "        vertical-align: top;\n",
       "    }\n",
       "\n",
       "    .dataframe thead th {\n",
       "        text-align: right;\n",
       "    }\n",
       "</style>\n",
       "<table border=\"1\" class=\"dataframe\">\n",
       "  <thead>\n",
       "    <tr style=\"text-align: right;\">\n",
       "      <th></th>\n",
       "      <th>ride_id</th>\n",
       "      <th>start_lat</th>\n",
       "      <th>start_lng</th>\n",
       "      <th>end_lat</th>\n",
       "      <th>end_lng</th>\n",
       "      <th>member_casual</th>\n",
       "      <th>distance_miles</th>\n",
       "    </tr>\n",
       "  </thead>\n",
       "  <tbody>\n",
       "    <tr>\n",
       "      <th>0</th>\n",
       "      <td>77A0F1B26D1597B1</td>\n",
       "      <td>38.905996</td>\n",
       "      <td>-77.039802</td>\n",
       "      <td>38.903819</td>\n",
       "      <td>-77.028400</td>\n",
       "      <td>1</td>\n",
       "      <td>0.632638</td>\n",
       "    </tr>\n",
       "    <tr>\n",
       "      <th>1</th>\n",
       "      <td>8698F10128EA4F18</td>\n",
       "      <td>38.900711</td>\n",
       "      <td>-77.046449</td>\n",
       "      <td>38.903741</td>\n",
       "      <td>-77.042452</td>\n",
       "      <td>0</td>\n",
       "      <td>0.300189</td>\n",
       "    </tr>\n",
       "    <tr>\n",
       "      <th>2</th>\n",
       "      <td>AA07819DC0F58872</td>\n",
       "      <td>38.941139</td>\n",
       "      <td>-77.061977</td>\n",
       "      <td>38.941139</td>\n",
       "      <td>-77.061977</td>\n",
       "      <td>1</td>\n",
       "      <td>0.000000</td>\n",
       "    </tr>\n",
       "    <tr>\n",
       "      <th>3</th>\n",
       "      <td>DA909BCA92EF85AB</td>\n",
       "      <td>38.883450</td>\n",
       "      <td>-77.021741</td>\n",
       "      <td>38.883450</td>\n",
       "      <td>-77.021741</td>\n",
       "      <td>1</td>\n",
       "      <td>0.000000</td>\n",
       "    </tr>\n",
       "    <tr>\n",
       "      <th>4</th>\n",
       "      <td>B36F1E14D8C6757E</td>\n",
       "      <td>38.880300</td>\n",
       "      <td>-76.986200</td>\n",
       "      <td>38.879200</td>\n",
       "      <td>-76.995300</td>\n",
       "      <td>0</td>\n",
       "      <td>0.496488</td>\n",
       "    </tr>\n",
       "  </tbody>\n",
       "</table>\n",
       "</div>"
      ],
      "text/plain": [
       "            ride_id  start_lat  start_lng    end_lat    end_lng  \\\n",
       "0  77A0F1B26D1597B1  38.905996 -77.039802  38.903819 -77.028400   \n",
       "1  8698F10128EA4F18  38.900711 -77.046449  38.903741 -77.042452   \n",
       "2  AA07819DC0F58872  38.941139 -77.061977  38.941139 -77.061977   \n",
       "3  DA909BCA92EF85AB  38.883450 -77.021741  38.883450 -77.021741   \n",
       "4  B36F1E14D8C6757E  38.880300 -76.986200  38.879200 -76.995300   \n",
       "\n",
       "   member_casual  distance_miles  \n",
       "0              1        0.632638  \n",
       "1              0        0.300189  \n",
       "2              1        0.000000  \n",
       "3              1        0.000000  \n",
       "4              0        0.496488  "
      ]
     },
     "execution_count": 7,
     "metadata": {},
     "output_type": "execute_result"
    }
   ],
   "source": [
    "combined_df = pd.concat([data_2020, data_2021, data_2022], ignore_index=True)\n",
    "combined_df.head()"
   ]
  },
  {
   "cell_type": "markdown",
   "metadata": {},
   "source": [
    "## Random Forest Classifier"
   ]
  },
  {
   "cell_type": "code",
   "execution_count": null,
   "metadata": {},
   "outputs": [
    {
     "name": "stdout",
     "output_type": "stream",
     "text": [
      "Accuracy: 0.7021605094766304\n",
      "              precision    recall  f1-score   support\n",
      "\n",
      "           0       0.71      0.82      0.76    912549\n",
      "           1       0.69      0.54      0.60    665227\n",
      "\n",
      "    accuracy                           0.70   1577776\n",
      "   macro avg       0.70      0.68      0.68   1577776\n",
      "weighted avg       0.70      0.70      0.70   1577776\n",
      "\n"
     ]
    },
    {
     "data": {
      "image/png": "[encoded data removed]",
      "text/plain": [
       "<Figure size 800x600 with 2 Axes>"
      ]
     },
     "metadata": {},
     "output_type": "display_data"
    }
   ],
   "source": [
    "# Selecting the relevant features and the target variable\n",
    "features = combined_df[['start_lat', 'start_lng', 'end_lat', 'end_lng', 'distance_miles']]\n",
    "target = combined_df['member_casual']\n",
    "\n",
    "# Splitting the dataset into training and testing sets\n",
    "X_train, X_test, y_train, y_test = train_test_split(features, target, test_size=0.2, random_state=42)\n",
    "\n",
    "# Creating and training the Random Forest Classifier\n",
    "rf_model = RandomForestClassifier(n_estimators=100, random_state=42, n_jobs = -1)\n",
    "rf_model.fit(X_train, y_train)\n",
    "\n",
    "# Predicting the test set results\n",
    "y_pred = rf_model.predict(X_test)\n",
    "\n",
    "# Calculating the accuracy\n",
    "accuracy = accuracy_score(y_test, y_pred)\n",
    "print(\"Accuracy:\", accuracy)\n",
    "\n",
    "# Generating the confusion matrix\n",
    "conf_matrix = confusion_matrix(y_test, y_pred)\n",
    "\n",
    "# Generating a classification report\n",
    "class_report = classification_report(y_test, y_pred)\n",
    "print(class_report)\n",
    "\n",
    "# Creating a heatmap for the confusion matrix\n",
    "plt.figure(figsize=(8, 6))\n",
    "sns.heatmap(conf_matrix, annot=True, fmt=\"d\", cmap='Blues', \n",
    "            xticklabels=['Member', 'Casual'], \n",
    "            yticklabels=['Member', 'Casual'])\n",
    "plt.ylabel('Actual')\n",
    "plt.xlabel('Predicted')\n",
    "plt.title('Confusion Matrix')\n",
    "plt.show()"
   ]
  },
  {
   "cell_type": "markdown",
   "metadata": {},
   "source": [
    "## Decision Tree Classifier"
   ]
  },
  {
   "cell_type": "code",
   "execution_count": null,
   "metadata": {},
   "outputs": [
    {
     "name": "stdout",
     "output_type": "stream",
     "text": [
      "              precision    recall  f1-score   support\n",
      "\n",
      "           0       0.70      0.82      0.76   1367876\n",
      "           1       0.68      0.53      0.60    998787\n",
      "\n",
      "    accuracy                           0.70   2366663\n",
      "   macro avg       0.69      0.67      0.68   2366663\n",
      "weighted avg       0.69      0.70      0.69   2366663\n",
      "\n"
     ]
    },
    {
     "data": {
      "image/png": "[encoded data removed]",
      "text/plain": [
       "<Figure size 800x600 with 2 Axes>"
      ]
     },
     "metadata": {},
     "output_type": "display_data"
    }
   ],
   "source": [
    "\n",
    "X = combined_df[['distance_miles', 'start_lat', 'start_lng', 'end_lat', 'end_lng']]\n",
    "y = combined_df['member_casual']\n",
    "\n",
    "# Split the dataset into training and testing sets\n",
    "X_train, X_test, y_train, y_test = train_test_split(X, y, test_size=0.3, random_state=42, n_jobs = -1)\n",
    "\n",
    "# Initialize and train the classifier\n",
    "clf = DecisionTreeClassifier()\n",
    "clf.fit(X_train, y_train)\n",
    "\n",
    "# Predictions\n",
    "y_pred = clf.predict(X_test)\n",
    "\n",
    "# Evaluate the classifier\n",
    "print(classification_report(y_test, y_pred))\n",
    "conf_matrix = confusion_matrix(y_test, y_pred)\n",
    "# Creating a heatmap for the confusion matrix\n",
    "plt.figure(figsize=(8, 6))\n",
    "sns.heatmap(conf_matrix, annot=True, fmt=\"d\", cmap='Blues', \n",
    "            xticklabels=['Member', 'Casual'], \n",
    "            yticklabels=['Member', 'Casual'])\n",
    "plt.ylabel('Actual')\n",
    "plt.xlabel('Predicted')\n",
    "plt.title('Confusion Matrix')\n",
    "plt.show()"
   ]
  }
 ],
 "metadata": {
  "kernelspec": {
   "display_name": "base",
   "language": "python",
   "name": "python3"
  },
  "language_info": {
   "codemirror_mode": {
    "name": "ipython",
    "version": 3
   },
   "file_extension": ".py",
   "mimetype": "text/x-python",
   "name": "python",
   "nbconvert_exporter": "python",
   "pygments_lexer": "ipython3",
   "version": "3.11.5"
  }
 },
 "nbformat": 4,
 "nbformat_minor": 2
}
